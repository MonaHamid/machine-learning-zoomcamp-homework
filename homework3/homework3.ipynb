{
  "nbformat": 4,
  "nbformat_minor": 0,
  "metadata": {
    "colab": {
      "provenance": []
    },
    "kernelspec": {
      "name": "python3",
      "display_name": "Python 3"
    },
    "language_info": {
      "name": "python"
    }
  },
  "cells": [
    {
      "cell_type": "code",
      "execution_count": 1,
      "metadata": {
        "colab": {
          "base_uri": "https://localhost:8080/"
        },
        "id": "FKzEr80ost1l",
        "outputId": "8cbb1cf2-3e81-4382-dcbc-7cdc1b86d9cf"
      },
      "outputs": [
        {
          "output_type": "stream",
          "name": "stdout",
          "text": [
            "Requirement already satisfied: pandas in /usr/local/lib/python3.12/dist-packages (2.2.2)\n",
            "Requirement already satisfied: scikit-learn in /usr/local/lib/python3.12/dist-packages (1.6.1)\n",
            "Requirement already satisfied: numpy in /usr/local/lib/python3.12/dist-packages (2.0.2)\n",
            "Requirement already satisfied: python-dateutil>=2.8.2 in /usr/local/lib/python3.12/dist-packages (from pandas) (2.9.0.post0)\n",
            "Requirement already satisfied: pytz>=2020.1 in /usr/local/lib/python3.12/dist-packages (from pandas) (2025.2)\n",
            "Requirement already satisfied: tzdata>=2022.7 in /usr/local/lib/python3.12/dist-packages (from pandas) (2025.2)\n",
            "Requirement already satisfied: scipy>=1.6.0 in /usr/local/lib/python3.12/dist-packages (from scikit-learn) (1.16.2)\n",
            "Requirement already satisfied: joblib>=1.2.0 in /usr/local/lib/python3.12/dist-packages (from scikit-learn) (1.5.2)\n",
            "Requirement already satisfied: threadpoolctl>=3.1.0 in /usr/local/lib/python3.12/dist-packages (from scikit-learn) (3.6.0)\n",
            "Requirement already satisfied: six>=1.5 in /usr/local/lib/python3.12/dist-packages (from python-dateutil>=2.8.2->pandas) (1.17.0)\n"
          ]
        }
      ],
      "source": [
        "!pip install pandas scikit-learn numpy"
      ]
    },
    {
      "cell_type": "code",
      "source": [
        "!wget https://raw.githubusercontent.com/alexeygrigorev/datasets/master/course_lead_scoring.csv -O course_lead_scoring.csv\n"
      ],
      "metadata": {
        "colab": {
          "base_uri": "https://localhost:8080/"
        },
        "id": "RLReogZwtM-a",
        "outputId": "3f9eea61-b102-461a-d647-1df25ba01163"
      },
      "execution_count": 2,
      "outputs": [
        {
          "output_type": "stream",
          "name": "stdout",
          "text": [
            "--2025-10-13 08:34:30--  https://raw.githubusercontent.com/alexeygrigorev/datasets/master/course_lead_scoring.csv\n",
            "Resolving raw.githubusercontent.com (raw.githubusercontent.com)... 185.199.109.133, 185.199.108.133, 185.199.111.133, ...\n",
            "Connecting to raw.githubusercontent.com (raw.githubusercontent.com)|185.199.109.133|:443... connected.\n",
            "HTTP request sent, awaiting response... 200 OK\n",
            "Length: 80876 (79K) [text/plain]\n",
            "Saving to: ‘course_lead_scoring.csv’\n",
            "\n",
            "\rcourse_lead_scoring   0%[                    ]       0  --.-KB/s               \rcourse_lead_scoring 100%[===================>]  78.98K  --.-KB/s    in 0.02s   \n",
            "\n",
            "2025-10-13 08:34:30 (4.03 MB/s) - ‘course_lead_scoring.csv’ saved [80876/80876]\n",
            "\n"
          ]
        }
      ]
    },
    {
      "cell_type": "code",
      "source": [
        "import pandas as pd\n",
        "import numpy as np\n",
        "from sklearn.model_selection import train_test_split\n",
        "from sklearn.preprocessing import OneHotEncoder\n",
        "from sklearn.linear_model import LogisticRegression\n",
        "from sklearn.metrics import accuracy_score\n",
        "from sklearn.feature_selection import mutual_info_classif\n",
        "\n",
        "df = pd.read_csv(\"course_lead_scoring.csv\")\n",
        "\n",
        "# --- Data Preparation ---\n",
        "cat_cols = [\"lead_source\", \"industry\", \"employment_status\", \"location\"]\n",
        "num_cols = [\"number_of_courses_viewed\", \"annual_income\", \"interaction_count\", \"lead_score\"]\n",
        "target = \"converted\"\n",
        "\n",
        "for c in cat_cols:\n",
        "    df[c] = df[c].astype(\"object\").fillna(\"NA\")\n",
        "for c in num_cols:\n",
        "    df[c] = pd.to_numeric(df[c], errors=\"coerce\").fillna(0.0)\n",
        "df[target] = pd.to_numeric(df[target], errors=\"coerce\").fillna(0).astype(int)\n",
        "\n",
        "# --- Q1 ---\n",
        "q1 = df[\"industry\"].mode(dropna=False)[0]\n",
        "print(\"Q1:\", q1)"
      ],
      "metadata": {
        "colab": {
          "base_uri": "https://localhost:8080/"
        },
        "id": "ulLi3Q3VtP8h",
        "outputId": "cc4cba97-adf3-4400-9d62-0e769e5bd7ac"
      },
      "execution_count": 3,
      "outputs": [
        {
          "output_type": "stream",
          "name": "stdout",
          "text": [
            "Q1: retail\n"
          ]
        }
      ]
    },
    {
      "cell_type": "code",
      "source": [
        "# --- Q2 ---\n",
        "corr = df[num_cols].corr().abs()\n",
        "pairs = [\n",
        "    (\"interaction_count\", \"lead_score\"),\n",
        "    (\"number_of_courses_viewed\", \"lead_score\"),\n",
        "    (\"number_of_courses_viewed\", \"interaction_count\"),\n",
        "    (\"annual_income\", \"interaction_count\"),\n",
        "]\n",
        "best = max(pairs, key=lambda p: corr.loc[p[0], p[1]])\n",
        "print(\"Q2:\", best)"
      ],
      "metadata": {
        "colab": {
          "base_uri": "https://localhost:8080/"
        },
        "id": "yhFCLeuYtZUz",
        "outputId": "5fb14fef-109e-4040-fc8a-dbdafa1d5e1a"
      },
      "execution_count": 4,
      "outputs": [
        {
          "output_type": "stream",
          "name": "stdout",
          "text": [
            "Q2: ('annual_income', 'interaction_count')\n"
          ]
        }
      ]
    },
    {
      "cell_type": "code",
      "source": [
        "# --- Split ---\n",
        "X = df.drop(columns=[target])\n",
        "y = df[target]\n",
        "X_train, X_temp, y_train, y_temp = train_test_split(X, y, test_size=0.4, random_state=42, stratify=y)\n",
        "X_val, X_test, y_val, y_test = train_test_split(X_temp, y_temp, test_size=0.5, random_state=42, stratify=y_temp)\n",
        "\n",
        "# --- Q3 ---\n",
        "X_cat = X_train[cat_cols].astype(\"category\")\n",
        "X_codes = pd.DataFrame({c: X_cat[c].cat.codes for c in cat_cols})\n",
        "mi = mutual_info_classif(X_codes.values, y_train, discrete_features=True, random_state=42)\n",
        "mi_series = pd.Series(mi, index=cat_cols).sort_values(ascending=False)\n",
        "print(\"Q3:\", mi_series)"
      ],
      "metadata": {
        "colab": {
          "base_uri": "https://localhost:8080/"
        },
        "id": "_LESl94ItebL",
        "outputId": "4c8f8bca-b4d3-4a22-9431-69d8ffe55781"
      },
      "execution_count": 5,
      "outputs": [
        {
          "output_type": "stream",
          "name": "stdout",
          "text": [
            "Q3: lead_source          0.027161\n",
            "industry             0.013788\n",
            "employment_status    0.007115\n",
            "location             0.001347\n",
            "dtype: float64\n"
          ]
        }
      ]
    },
    {
      "cell_type": "code",
      "metadata": {
        "colab": {
          "base_uri": "https://localhost:8080/"
        },
        "id": "169ded58",
        "outputId": "ba0422dd-3592-4733-9509-bc27748e1beb"
      },
      "source": [
        "# --- Q4 ---\n",
        "# Calculate base accuracy\n",
        "oh = OneHotEncoder(handle_unknown=\"ignore\")\n",
        "Xtr = np.hstack([X_train[num_cols].values, oh.fit_transform(X_train[cat_cols]).toarray()])\n",
        "Xv = np.hstack([X_val[num_cols].values, oh.transform(X_val[cat_cols]).toarray()])\n",
        "m = LogisticRegression(solver=\"liblinear\", C=1.0, max_iter=1000, random_state=42)\n",
        "m.fit(Xtr, y_train)\n",
        "acc = accuracy_score(y_val, m.predict(Xv))\n",
        "print(\"Q4:\", acc)"
      ],
      "execution_count": 11,
      "outputs": [
        {
          "output_type": "stream",
          "name": "stdout",
          "text": [
            "Q4: 0.6815068493150684\n"
          ]
        }
      ]
    },
    {
      "cell_type": "code",
      "source": [
        "# --- Q5 ---\n",
        "base_acc = acc\n",
        "drops = [\"industry\", \"employment_status\", \"lead_score\"]\n",
        "for col in drops:\n",
        "    keep_cat = [c for c in cat_cols if c != col]\n",
        "    keep_num = [c for c in num_cols if c != col]\n",
        "    oh2 = OneHotEncoder(handle_unknown=\"ignore\")\n",
        "    Xtr2 = np.hstack([X_train[keep_num].values, oh2.fit_transform(X_train[keep_cat]).toarray()])\n",
        "    Xv2 = np.hstack([X_val[keep_num].values, oh2.transform(X_val[keep_cat]).toarray()])\n",
        "    m2 = LogisticRegression(solver=\"liblinear\", C=1.0, max_iter=1000, random_state=42)\n",
        "    m2.fit(Xtr2, y_train)\n",
        "    acc2 = accuracy_score(y_val, m2.predict(Xv2))\n",
        "    print(f\"Q5 drop {col}: Δ={base_acc-acc2:+.5f}\")"
      ],
      "metadata": {
        "colab": {
          "base_uri": "https://localhost:8080/"
        },
        "id": "H8KtSYOzuHQw",
        "outputId": "6ac9ec3d-0779-4116-ef1a-1451495ef40b"
      },
      "execution_count": 16,
      "outputs": [
        {
          "output_type": "stream",
          "name": "stdout",
          "text": [
            "Q5 drop industry: Δ=-0.00685\n",
            "Q5 drop employment_status: Δ=+0.00000\n",
            "Q5 drop lead_score: Δ=+0.00685\n"
          ]
        }
      ]
    },
    {
      "cell_type": "code",
      "source": [
        "# --- Q6 ---\n",
        "for C in [0.01, 0.1, 1, 10, 100]:\n",
        "    m = LogisticRegression(solver=\"liblinear\", C=C, max_iter=1000, random_state=42)\n",
        "    m.fit(Xtr, y_train)\n",
        "    acc = accuracy_score(y_val, m.predict(Xv))\n",
        "    print(f\"Q6 C={C}: acc={acc:.3f}\")"
      ],
      "metadata": {
        "colab": {
          "base_uri": "https://localhost:8080/"
        },
        "id": "sHD5F2Wct2qW",
        "outputId": "1ae49472-457a-44bf-f074-f371c42e2f52"
      },
      "execution_count": 13,
      "outputs": [
        {
          "output_type": "stream",
          "name": "stdout",
          "text": [
            "Q6 C=0.01: acc=0.688\n",
            "Q6 C=0.1: acc=0.682\n",
            "Q6 C=1: acc=0.682\n",
            "Q6 C=10: acc=0.682\n",
            "Q6 C=100: acc=0.682\n"
          ]
        }
      ]
    },
    {
      "cell_type": "code",
      "source": [],
      "metadata": {
        "id": "cKVfy9J1uF3_"
      },
      "execution_count": null,
      "outputs": []
    }
  ]
}