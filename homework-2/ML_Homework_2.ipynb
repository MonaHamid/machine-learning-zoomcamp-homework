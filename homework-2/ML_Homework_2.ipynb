{
  "nbformat": 4,
  "nbformat_minor": 0,
  "metadata": {
    "colab": {
      "provenance": []
    },
    "kernelspec": {
      "name": "python3",
      "display_name": "Python 3"
    },
    "language_info": {
      "name": "python"
    }
  },
  "cells": [
    {
      "cell_type": "code",
      "execution_count": 2,
      "metadata": {
        "id": "zGLFdq3VRl3s"
      },
      "outputs": [],
      "source": [
        "!pip -q install pandas numpy scikit-learn"
      ]
    },
    {
      "cell_type": "code",
      "source": [
        "import pandas as pd, numpy as np\n",
        "from sklearn.linear_model import LinearRegression, Ridge\n",
        "from sklearn.metrics import mean_squared_error"
      ],
      "metadata": {
        "id": "ND0ZFGpcRvyG"
      },
      "execution_count": 3,
      "outputs": []
    },
    {
      "cell_type": "code",
      "source": [
        "URL = \"https://raw.githubusercontent.com/alexeygrigorev/datasets/master/car_fuel_efficiency.csv\""
      ],
      "metadata": {
        "id": "lJLOTgq2R1P3"
      },
      "execution_count": 4,
      "outputs": []
    },
    {
      "cell_type": "code",
      "source": [
        "df = pd.read_csv(URL)\n",
        "cols = ['engine_displacement','horsepower','vehicle_weight','model_year','fuel_efficiency_mpg']\n",
        "df = df[cols].copy()\n",
        "\n",
        "def rmse(y_true, y_pred):\n",
        "    from sklearn.metrics import mean_squared_error\n",
        "    return np.sqrt(mean_squared_error(y_true, y_pred))"
      ],
      "metadata": {
        "id": "9LYsT7APLEz4"
      },
      "execution_count": 12,
      "outputs": []
    },
    {
      "cell_type": "code",
      "source": [
        "# Q1: which column has missing values?\n",
        "na_counts = df.isna().sum()\n",
        "missing_col = na_counts[na_counts > 0].idxmax() if (na_counts > 0).any() else None\n",
        "print(\"Q1 (missing column):\", missing_col)"
      ],
      "metadata": {
        "colab": {
          "base_uri": "https://localhost:8080/"
        },
        "id": "aazQDuJ6Lgr7",
        "outputId": "4388def8-29fd-47b3-f43f-7ab51a403a12"
      },
      "execution_count": 6,
      "outputs": [
        {
          "output_type": "stream",
          "name": "stdout",
          "text": [
            "Q1 (missing column): horsepower\n"
          ]
        }
      ]
    },
    {
      "cell_type": "code",
      "source": [
        "# Q2: median horsepower\n",
        "print(\"Q2 (median horsepower):\", df['horsepower'].median())"
      ],
      "metadata": {
        "colab": {
          "base_uri": "https://localhost:8080/"
        },
        "id": "IzYtZIsPLoaC",
        "outputId": "7b688d7a-7006-44ad-dd35-7c393c0079e8"
      },
      "execution_count": 7,
      "outputs": [
        {
          "output_type": "stream",
          "name": "stdout",
          "text": [
            "Q2 (median horsepower): 149.0\n"
          ]
        }
      ]
    },
    {
      "cell_type": "code",
      "source": [
        "# splitting (as in lectures)\n",
        "def split_df(base_df, seed=42):\n",
        "    d = base_df.sample(frac=1.0, random_state=seed).reset_index(drop=True)\n",
        "    n = len(d); n_train = int(0.6*n); n_val = int(0.2*n)\n",
        "    return d.iloc[:n_train].copy(), d.iloc[n_train:n_train+n_val].copy(), d.iloc[n_train+n_val:].copy()\n",
        "\n",
        "features = ['engine_displacement','horsepower','vehicle_weight','model_year']\n",
        "target = 'fuel_efficiency_mpg'"
      ],
      "metadata": {
        "id": "DOLDgOamOWML"
      },
      "execution_count": 8,
      "outputs": []
    },
    {
      "cell_type": "code",
      "source": [
        "# Q3: fill 0 vs fill mean (mean from TRAIN only), seed=42\n",
        "dtr, dvl, dte = split_df(df, seed=42)\n",
        "Xtr, Xvl = dtr[features].copy(), dvl[features].copy()\n",
        "ytr, yvl = dtr[target].values, dvl[target].values\n"
      ],
      "metadata": {
        "id": "nbDehVi5OacT"
      },
      "execution_count": 9,
      "outputs": []
    },
    {
      "cell_type": "code",
      "source": [
        "# fill 0\n",
        "Xtr0, Xvl0 = Xtr.copy().fillna(0), Xvl.copy().fillna(0)\n",
        "m0 = LinearRegression().fit(Xtr0, ytr)\n",
        "rmse0 = round(rmse(yvl, m0.predict(Xvl0)), 2)\n",
        "\n",
        "# fill mean (train only)\n",
        "Xtrm, Xvlm = Xtr.copy(), Xvl.copy()\n",
        "for c in Xtrm.columns:\n",
        "    if Xtrm[c].isna().any():\n",
        "        mval = Xtrm[c].mean()\n",
        "        Xtrm[c] = Xtrm[c].fillna(mval)\n",
        "        Xvlm[c] = Xvlm[c].fillna(mval)\n",
        "mm = LinearRegression().fit(Xtrm, ytr)\n",
        "rmsem = round(rmse(yvl, mm.predict(Xvlm)), 2)\n",
        "\n",
        "better = \"With 0\" if rmse0 < rmsem else (\"With mean\" if rmsem < rmse0 else \"Both are equally good\")\n",
        "print(f\"Q3 RMSE → fill-0: {rmse0} | fill-mean: {rmsem} | Answer: {better}\")"
      ],
      "metadata": {
        "colab": {
          "base_uri": "https://localhost:8080/"
        },
        "id": "NKDpP6RCOdp7",
        "outputId": "d35c4119-bd64-43e0-b23c-f33ec2edc601"
      },
      "execution_count": 13,
      "outputs": [
        {
          "output_type": "stream",
          "name": "stdout",
          "text": [
            "Q3 RMSE → fill-0: 0.52 | fill-mean: 0.46 | Answer: With mean\n"
          ]
        }
      ]
    },
    {
      "cell_type": "code",
      "source": [
        "# Q4: ridge sweep r in [0,0.01,0.1,1,5,10,100], fill 0\n",
        "r_list = [0, 0.01, 0.1, 1, 5, 10, 100]\n",
        "Xtr0, Xvl0 = dtr[features].fillna(0), dvl[features].fillna(0)\n",
        "ytr, yvl = dtr[target].values, dvl[target].values\n",
        "\n",
        "scores = []\n",
        "for r in r_list:\n",
        "    model = LinearRegression() if r==0 else Ridge(alpha=r, random_state=42)\n",
        "    model.fit(Xtr0, ytr)\n",
        "    s = round(rmse(yvl, model.predict(Xvl0)), 2)\n",
        "    scores.append(s)\n",
        "    print(f\"r={r:<6} RMSE={s}\")\n",
        "best_rmse = min(scores)\n",
        "best_r = r_list[scores.index(best_rmse)]\n",
        "print(\"Q4 best r:\", best_r, \"with RMSE:\", best_rmse)"
      ],
      "metadata": {
        "colab": {
          "base_uri": "https://localhost:8080/"
        },
        "id": "2FN6L0mfO32v",
        "outputId": "725e9eab-b2fb-4521-f8a1-7dd0e89dbec5"
      },
      "execution_count": 14,
      "outputs": [
        {
          "output_type": "stream",
          "name": "stdout",
          "text": [
            "r=0      RMSE=0.52\n",
            "r=0.01   RMSE=0.52\n",
            "r=0.1    RMSE=0.52\n",
            "r=1      RMSE=0.52\n",
            "r=5      RMSE=0.52\n",
            "r=10     RMSE=0.52\n",
            "r=100    RMSE=0.52\n",
            "Q4 best r: 0 with RMSE: 0.52\n"
          ]
        }
      ]
    },
    {
      "cell_type": "code",
      "source": [
        "# Q5: seeds 0–9, split 60/20/20, fill 0, no regularization, std of val RMSE\n",
        "vals = []\n",
        "for s in range(10):\n",
        "    dtr, dvl, _ = split_df(df, seed=s)\n",
        "    Xtr, Xvl = dtr[features].fillna(0), dvl[features].fillna(0)\n",
        "    ytr, yvl = dtr[target].values, dvl[target].values\n",
        "    m = LinearRegression().fit(Xtr, ytr)\n",
        "    vals.append(rmse(yvl, m.predict(Xvl)))\n",
        "std = round(np.std(vals), 3)\n",
        "print(\"Q5 std across seeds 0–9:\", std)\n"
      ],
      "metadata": {
        "colab": {
          "base_uri": "https://localhost:8080/"
        },
        "id": "xWEywaxyO7BO",
        "outputId": "66c3ad0f-85d9-4683-f8f7-8bd98e8c5cd4"
      },
      "execution_count": 15,
      "outputs": [
        {
          "output_type": "stream",
          "name": "stdout",
          "text": [
            "Q5 std across seeds 0–9: 0.007\n"
          ]
        }
      ]
    },
    {
      "cell_type": "code",
      "source": [
        "# Q6: seed=9, train on train+val, fill 0, r=0.001, test RMSE\n",
        "dtr, dvl, dte = split_df(df, seed=9)\n",
        "Xtr_full = pd.concat([dtr[features], dvl[features]]).fillna(0)\n",
        "ytr_full = np.concatenate([dtr[target].values, dvl[target].values])\n",
        "Xte, yte = dte[features].fillna(0), dte[target].values\n",
        "ridge = Ridge(alpha=0.001, random_state=9).fit(Xtr_full, ytr_full)\n",
        "rmse_test = rmse(yte, ridge.predict(Xte))\n",
        "print(\"Q6 test RMSE:\", rmse_test, \"→ rounded:\", round(rmse_test, 3))"
      ],
      "metadata": {
        "colab": {
          "base_uri": "https://localhost:8080/"
        },
        "id": "ny9FwcJoPCP_",
        "outputId": "1f6b3551-acd4-4732-b659-d73b2881a11c"
      },
      "execution_count": 16,
      "outputs": [
        {
          "output_type": "stream",
          "name": "stdout",
          "text": [
            "Q6 test RMSE: 0.5154915324831211 → rounded: 0.515\n"
          ]
        }
      ]
    },
    {
      "cell_type": "code",
      "source": [
        "# --------------- Summary ----------------------\n",
        "print(\"\\n FINAL ANSWERS SUMMARY\")\n",
        "print(f\"Q1: Missing column → {missing_col}\")\n",
        "print(f\"Q2: Median horsepower → {df['horsepower'].median()}\")\n",
        "print(f\"Q3: Better option → {better}\")\n",
        "print(f\"Q4: Best r → {best_r}\")\n",
        "print(f\"Q5: RMSE std → {std}\")\n",
        "print(f\"Q6: Test RMSE → {round(rmse_test, 3)}\")\n"
      ],
      "metadata": {
        "colab": {
          "base_uri": "https://localhost:8080/"
        },
        "id": "DpGbzjuTPQih",
        "outputId": "5d7c419a-0afb-4823-816c-98530dc6a520"
      },
      "execution_count": 18,
      "outputs": [
        {
          "output_type": "stream",
          "name": "stdout",
          "text": [
            "\n",
            " FINAL ANSWERS SUMMARY\n",
            "Q1: Missing column → horsepower\n",
            "Q2: Median horsepower → 149.0\n",
            "Q3: Better option → With mean\n",
            "Q4: Best r → 0\n",
            "Q5: RMSE std → 0.007\n",
            "Q6: Test RMSE → 0.515\n"
          ]
        }
      ]
    }
  ]
}